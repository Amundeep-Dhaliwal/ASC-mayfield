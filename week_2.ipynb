{
 "cells": [
  {
   "cell_type": "code",
   "execution_count": null,
   "metadata": {},
   "outputs": [],
   "source": [
    "# recap of integers and arithmetic\n",
    "# strings/formatting strings\n",
    "# tuples \n",
    "# lists\n",
    "# type()\n",
    "# for/while loops\n",
    "# functions"
   ]
  }
 ],
 "metadata": {
  "language_info": {
   "name": "python"
  },
  "orig_nbformat": 4
 },
 "nbformat": 4,
 "nbformat_minor": 2
}
